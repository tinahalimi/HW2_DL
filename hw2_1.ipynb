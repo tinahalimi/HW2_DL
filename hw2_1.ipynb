{
  "cells": [
    {
      "cell_type": "code",
      "execution_count": 1,
      "metadata": {
        "id": "i7I7O1kv0S21"
      },
      "outputs": [],
      "source": [
        "# Feel free to import any other libraries and modules.\n",
        "import numpy as np\n",
        "import matplotlib.pyplot as plt\n",
        "import torch\n",
        "from torchvision import datasets, transforms\n",
        "import torch.nn.functional as F\n",
        "from torch.utils.data import TensorDataset, DataLoader\n",
        "from torch import nn"
      ]
    },
    {
      "cell_type": "markdown",
      "metadata": {
        "id": "CeXRppkryQBV"
      },
      "source": [
        "# Part One: Optimization Algorithms\n",
        "## 1. Gradient Descent\n",
        "The Gradient Descent (GD) algorithm finds the minimum of a given\n",
        "function by taking small steps along the function's gradient:\n",
        "\n",
        ">$\\Theta \\leftarrow \\Theta_0$\n",
        "\n",
        ">**while** stop condition not met **do**\n",
        "\n",
        ">$~~~~$$\\Theta \\leftarrow \\Theta - \\alpha \\nabla_\\Theta f(\\Theta)$\n",
        "\n",
        ">**end while**\n",
        "\n",
        "where $f$ is the function to minimize, $\\nabla_\\Theta f(\\Theta)$\n",
        "denotes $f$'s gradient at $\\Theta$ and $\\alpha$ is the learning rate.\n",
        "\n",
        "**Task1:** Implement the GD algorithm as a function:\n",
        "\n",
        "  \\begin{equation}\n",
        "      \\Theta_{opt} = \\text{GD}(f, \\Theta_0, \\alpha, \\rho)\n",
        "  \\end{equation}\n",
        "where $f$ is a function returning the cost and its gradient with respect to parameter vector $\\Theta$, $\\Theta_0$ is the initial value, and $\\alpha$\n",
        "is the learning rate. You can assume that $\\alpha$. remains constant during the optimization. $\\rho$ is stop condition. \\\\\n",
        "Then, use the GD algorithm to find the optimum of the [Rosenbrock function](https://en.wikipedia.org/wiki/Rosenbrock_function) (Consider $a=1, b=100$).\n",
        " \\\\\n",
        "Also, plot the values found by GD at subsequent iterations.\n",
        "\n",
        "## 2. Newton's Method\n",
        "Newton's method is an iterative optimization algorithm used to find the minimum of a function.\n",
        "The basic update step in Newton's method is given by:\n",
        "\n",
        "\\begin{equation}\n",
        "\\Theta = \\Theta - H^{-1} \\cdot \\nabla f(\\Theta)\n",
        "\\end{equation}\n",
        "\n",
        "\n",
        "Where  $ H $ is the Hessian matrix of the function at $ \\Theta $, and $ H^{-1} $ is the inverse of the Hessian matrix, used to adjust the step size and direction more accurately than just using the gradient alone (as done in gradient descent).\n",
        "\n",
        "#### Line Search\n",
        "Sometimes, Newton's method may take too large of a step, which can lead to divergence. To prevent this, a simple **line search** is used. This reduces the step size $ \\alpha $ if the function value doesn't improve after the step.\n",
        "\n",
        "Steps:\n",
        "1. Compute the gradient and Hessian matrix at the current point.\n",
        "2. Calculate the step direction by multiplying the inverse of the Hessian with the gradient.\n",
        "3. Update the point by subtracting the step from the current point.\n",
        "4. If the function value doesn't improve, reduce the step size $ \\alpha $.\n",
        "5. Repeat until the gradient becomes sufficiently small (close to zero), indicating convergence.\n",
        "\n",
        "\n",
        "\n",
        "**Task2:** Implement Newton's method and compare it with the gradient descent. You will also need to implement a line search alogithm, e.g. (https://en.wikipedia.org/wiki/Backtracking_line_search) and make sure that the Newton's direction is indeed one along which the function is minimized.\n"
      ]
    },
    {
      "cell_type": "code",
      "execution_count": 2,
      "metadata": {
        "id": "DIsMJPFs-kLd"
      },
      "outputs": [],
      "source": [
        "def rosenbrock(x):\n",
        "    \"\"\"Returns the value and gradient of Rosenbrock's function at x: 2d vector\"\"\"\n",
        "    a, b = 1, 100\n",
        "    val = (a - x[0])**2 + b * (x[1] - x[0]**2)**2\n",
        "\n",
        "    # partial derivatives\n",
        "    dv_dx0 = -2 * (a - x[0]) - 4 * b * x[0] * (x[1] - x[0]**2)\n",
        "    dv_dx1 = 2 * b * (x[1] - x[0]**2)\n",
        "\n",
        "    grad = np.array([dv_dx0, dv_dx1])\n",
        "\n",
        "    return val, grad\n",
        "\n",
        "\n",
        "def rosenbrock_hessian(x):\n",
        "    \"\"\"Returns the value, gradient and hessian of Rosenbrock's function at x: 2d vector\"\"\"\n",
        "    val, grad = rosenbrock(x)\n",
        "\n",
        "    # Hessian\n",
        "    a, b = 1, 100\n",
        "    d2v_dx0x0 = 2 - 4 * b * (x[1] - 3 * x[0]**2)\n",
        "    d2v_dx0x1 = -4 * b * x[0]\n",
        "    d2v_dx1x0 = -4 * b * x[0]\n",
        "    d2v_dx1x1 = 2 * b\n",
        "\n",
        "    hessian = np.array([[d2v_dx0x0, d2v_dx0x1],\n",
        "                        [d2v_dx1x0, d2v_dx1x1]])\n",
        "\n",
        "    return val, grad, hessian\n",
        "\n",
        "\n",
        "\n",
        "def GD(f, theta0, alpha, stop_tolerance=1e-10, max_steps=1000000):\n",
        "    \"\"\"Runs gradient descent algorithm on f.\n",
        "\n",
        "    Args:\n",
        "        f: function that when evaluated on a Theta of same dtype and shape as Theta0\n",
        "            returns a tuple (value, dv_dtheta) with dValuedTheta of the same shape\n",
        "            as Theta\n",
        "        theta0: starting point\n",
        "        alpha: step length\n",
        "        stop_tolerance: stop iterations when improvement is below this threshold\n",
        "        max_steps: maximum number of steps\n",
        "    Returns:\n",
        "        tuple:\n",
        "        - theta: optimum theta found by the algorithm\n",
        "        - history: list of length num_steps containing tuples (theta, (val, dv_dtheta: np.array))\n",
        "\n",
        "    \"\"\"\n",
        "    history = []\n",
        "    theta = theta0\n",
        "    step = 0\n",
        "\n",
        "    while step < max_steps:\n",
        "        val, grad = f(theta)\n",
        "        history.append((theta.copy(), (val, grad)))\n",
        "\n",
        "        theta -= alpha * grad\n",
        "        step += 1\n",
        "\n",
        "        if np.linalg.norm(grad) < stop_tolerance:\n",
        "            break\n",
        "\n",
        "    return theta, history"
      ]
    },
    {
      "cell_type": "code",
      "execution_count": 3,
      "metadata": {
        "id": "yyb5unZNaSFq",
        "colab": {
          "base_uri": "https://localhost:8080/",
          "height": 490
        },
        "outputId": "0f3bc808-b154-4e97-ef80-437ce9758cb4"
      },
      "outputs": [
        {
          "output_type": "stream",
          "name": "stdout",
          "text": [
            "Found optimum at [1. 1.] in 54320 steps (true minimum is at [1,1])\n"
          ]
        },
        {
          "output_type": "display_data",
          "data": {
            "text/plain": [
              "<Figure size 640x480 with 1 Axes>"
            ],
            "image/png": "[encoded data removed]"
          },
          "metadata": {}
        }
      ],
      "source": [
        "# Find the optimum of rosenbrock function\n",
        "\n",
        "X0 = [0.,2.]\n",
        "Xopt, Xhist = GD(rosenbrock, X0, alpha=1e-3, stop_tolerance=1e-10, max_steps=1e6)\n",
        "\n",
        "print (\"Found optimum at %s in %d steps (true minimum is at [1,1])\" % (Xopt, len(Xhist)))\n",
        "\n",
        "iterations = range(len(Xhist))\n",
        "values = [item[1][0] for item in Xhist]  # item[1][0] is the function value\n",
        "\n",
        "plt.plot(iterations, values)\n",
        "plt.xlabel('Iteration')\n",
        "plt.ylabel('Function Value')\n",
        "plt.title('Rosenbrock Function Value over Gradient Descent Iterations')\n",
        "plt.yscale('log')\n",
        "plt.show()\n",
        "\n"
      ]
    },
    {
      "cell_type": "code",
      "execution_count": 4,
      "metadata": {
        "id": "JQ1Bf6sNMT_B",
        "colab": {
          "base_uri": "https://localhost:8080/"
        },
        "outputId": "4cfae4af-3de7-484c-c241-bdcbc124ba57"
      },
      "outputs": [
        {
          "output_type": "stream",
          "name": "stdout",
          "text": [
            "Found optimum at [1. 1.] (true minimum is at [1,1])\n"
          ]
        }
      ],
      "source": [
        "# Newton's Method\n",
        "def Newton(f, theta0, alpha=1, stop_tolerance=1e-10, max_steps=1000000):\n",
        "    \"\"\"Performs Newton's optimization method with a simple line search.\n",
        "\n",
        "    Args:\n",
        "        f: function that when evaluated on a Theta of same dtype and shape as Theta0\n",
        "            returns a tuple (value, gradient, hessian), where gradient and Hessian\n",
        "            have the same shape as Theta.\n",
        "        theta0: starting point.\n",
        "        alpha: step length for backtracking line search (default is 1).\n",
        "        stop_tolerance: stop iterations when the norm of the gradient is below this threshold.\n",
        "        max_steps: maximum number of iterations.\n",
        "    Returns:\n",
        "        tuple:\n",
        "        - theta: optimal Theta after convergence or maximum steps.\n",
        "        - history: list of tuples (theta, value, gradient) containing the optimization path.\n",
        "    \"\"\"\n",
        "    theta = np.array(theta0, dtype=float)\n",
        "    history = []\n",
        "    step = 0\n",
        "\n",
        "    while step < max_steps:\n",
        "        val, grad, hessian = f(theta)\n",
        "        history.append((theta.copy(), val, grad))\n",
        "\n",
        "        try:\n",
        "            hessian_inv = np.linalg.inv(hessian)\n",
        "            delta = -hessian_inv @ grad\n",
        "        except np.linalg.LinAlgError:\n",
        "            print(\"Hessian is singular, stopping optimization.\")\n",
        "            break\n",
        "\n",
        "        step_size = alpha\n",
        "        new_theta = theta + step_size * delta\n",
        "        new_val, _, _ = f(new_theta)\n",
        "        while new_val > val:\n",
        "            step_size *= 0.5\n",
        "            new_theta = theta + step_size * delta\n",
        "            new_val, _, _ = f(new_theta)\n",
        "\n",
        "        # Update theta\n",
        "        theta = new_theta\n",
        "        step += 1\n",
        "\n",
        "        if np.linalg.norm(grad) < stop_tolerance:\n",
        "            break\n",
        "\n",
        "    return theta, history\n",
        "\n",
        "# Test Newton's method on the Rosenbrock function\n",
        "X0 = [0., 2.]  # Initial guess\n",
        "Xopt, Xhist = Newton(rosenbrock_hessian, X0)\n",
        "\n",
        "print(\"Found optimum at %s (true minimum is at [1,1])\" % Xopt)"
      ]
    },
    {
      "cell_type": "markdown",
      "metadata": {
        "id": "wNXtvq8u-JSo"
      },
      "source": [
        "# Part two: MLP for MNIST Classification\n",
        "In this part, we are going to use `PyTorch`. If you want to become more familiar with it, check this resource: https://www.learnpytorch.io/\n",
        "\n",
        "#### In this homework, you need to\n",
        "- implement SGD optimizer (`./optimizer.py`)\n",
        "- implement forward and backward for FCLayer (`layers.py`)\n",
        "- implement forward and backward for SigmoidLayer (`layers.py`)\n",
        "- implement forward and backward for ReLULayer (`layers.py`)\n",
        "- implement forward and backward for DropoutLayer (`layers.py`)\n",
        "- implement train and test process (`solver.py`)"
      ]
    },
    {
      "cell_type": "code",
      "execution_count": 5,
      "metadata": {
        "id": "zWtm2k5Ir-XQ"
      },
      "outputs": [],
      "source": [
        "from layers import FCLayer, SigmoidLayer, ReLULayer\n",
        "from solver import train, test\n",
        "from optimizer import SGD"
      ]
    },
    {
      "cell_type": "code",
      "execution_count": 6,
      "metadata": {
        "id": "NRwL2rM0O92Z",
        "colab": {
          "base_uri": "https://localhost:8080/",
          "height": 35
        },
        "outputId": "60290f38-8f97-47c3-dd90-0f80847e496f"
      },
      "outputs": [
        {
          "output_type": "execute_result",
          "data": {
            "text/plain": [
              "'cpu'"
            ],
            "application/vnd.google.colaboratory.intrinsic+json": {
              "type": "string"
            }
          },
          "metadata": {},
          "execution_count": 6
        }
      ],
      "source": [
        "seed = 42\n",
        "torch.manual_seed(seed)\n",
        "np.random.seed(seed)\n",
        "device = \"cuda\" if torch.cuda.is_available() else \"cpu\"\n",
        "device"
      ]
    },
    {
      "cell_type": "code",
      "execution_count": 7,
      "metadata": {
        "id": "bCXcnjSYaR-R"
      },
      "outputs": [],
      "source": [
        "# Load MNIST dataset\n",
        "\n",
        "# Converts PIL image to tensor and scales to [0, 1] and flatten it\n",
        "transform = transforms.Compose([\n",
        "    transforms.ToTensor(),\n",
        "    transforms.Lambda(lambda x: x.view(-1)),\n",
        "])\n",
        "\n",
        "# Load MNIST dataset with the defined transform\n",
        "train_dataset = datasets.MNIST(root='./data', train=True, download=True, transform=transform)\n",
        "test_dataset = datasets.MNIST(root='./data', train=False, download=True, transform=transform)\n",
        "\n",
        "# One-hot encoding for labels\n",
        "def decode_label(label, num_classes=10):\n",
        "    return torch.nn.functional.one_hot(torch.tensor(label), num_classes=num_classes).float()\n",
        "\n",
        "# Preprocess labels and combine with transformed images\n",
        "y_train = [decode_label(label) for _, label in train_dataset]\n",
        "y_test = [decode_label(label) for _, label in test_dataset]\n",
        "\n",
        "# Convert the data into tensor datasets for training and testing\n",
        "train_dataset = TensorDataset(torch.stack([img for img, _ in train_dataset]), torch.stack(y_train))\n",
        "test_dataset = TensorDataset(torch.stack([img for img, _ in test_dataset]), torch.stack(y_test))\n",
        "\n",
        "# Create data loaders\n",
        "train_dataloader = DataLoader(train_dataset, batch_size=32, shuffle=True)\n",
        "test_dataloader = DataLoader(test_dataset, batch_size=32, shuffle=False)"
      ]
    },
    {
      "cell_type": "code",
      "execution_count": 8,
      "metadata": {
        "id": "NkRty2cM-kIt",
        "colab": {
          "base_uri": "https://localhost:8080/"
        },
        "outputId": "e65c6623-feb4-4732-c480-ca1b6e9e18fa"
      },
      "outputs": [
        {
          "output_type": "stream",
          "name": "stdout",
          "text": [
            "\n",
            "Epoch [0] Average training loss: 0.0771, Average training accuracy: 0.4956\n",
            "\n",
            "Epoch [1] Average training loss: 0.0556, Average training accuracy: 0.7378\n",
            "\n",
            "Epoch [2] Average training loss: 0.0506, Average training accuracy: 0.7835\n",
            "\n",
            "Epoch [3] Average training loss: 0.0482, Average training accuracy: 0.8046\n",
            "\n",
            "Epoch [4] Average training loss: 0.0466, Average training accuracy: 0.8173\n",
            "\n",
            "Epoch [5] Average training loss: 0.0456, Average training accuracy: 0.8254\n",
            "\n",
            "Epoch [6] Average training loss: 0.0448, Average training accuracy: 0.8307\n",
            "\n",
            "Epoch [7] Average training loss: 0.0442, Average training accuracy: 0.8344\n",
            "\n",
            "Epoch [8] Average training loss: 0.0437, Average training accuracy: 0.8384\n",
            "\n",
            "Epoch [9] Average training loss: 0.0432, Average training accuracy: 0.8408\n",
            "\n",
            "Epoch [10] Average training loss: 0.0429, Average training accuracy: 0.8430\n",
            "\n",
            "Epoch [11] Average training loss: 0.0426, Average training accuracy: 0.8455\n",
            "\n",
            "Epoch [12] Average training loss: 0.0423, Average training accuracy: 0.8465\n",
            "\n",
            "Epoch [13] Average training loss: 0.0420, Average training accuracy: 0.8474\n",
            "\n",
            "Epoch [14] Average training loss: 0.0418, Average training accuracy: 0.8489\n",
            "\n",
            "Epoch [15] Average training loss: 0.0415, Average training accuracy: 0.8504\n",
            "\n",
            "Epoch [16] Average training loss: 0.0413, Average training accuracy: 0.8517\n",
            "\n",
            "Epoch [17] Average training loss: 0.0411, Average training accuracy: 0.8514\n",
            "\n",
            "Epoch [18] Average training loss: 0.0409, Average training accuracy: 0.8529\n",
            "\n",
            "Epoch [19] Average training loss: 0.0407, Average training accuracy: 0.8533\n"
          ]
        }
      ],
      "source": [
        "num_epoch = 20\n",
        "\n",
        "criterion = nn.MSELoss()\n",
        "\n",
        "# Build MLP with FCLayer and SigmoidLayer you've implemented in layers.py\n",
        "sigmoidMLP = nn.Sequential(\n",
        "    FCLayer(784, 128),\n",
        "    SigmoidLayer(),\n",
        "    FCLayer(128, 10)\n",
        ")\n",
        "\n",
        "# Initialize optimizer you've implemented in optimizer.py\n",
        "sgd = SGD(params=sigmoidMLP.parameters(), learning_rate=0.01)\n",
        "\n",
        "# Train the model using train function you've implemented in solver.py\n",
        "sigmoidMLP = train(sigmoidMLP, criterion, sgd, train_dataloader, num_epoch, device=device)"
      ]
    },
    {
      "cell_type": "code",
      "execution_count": 9,
      "metadata": {
        "id": "F0otZUFrr7WW",
        "colab": {
          "base_uri": "https://localhost:8080/"
        },
        "outputId": "f75deec2-28f8-4bad-9592-dff697c6e385"
      },
      "outputs": [
        {
          "output_type": "stream",
          "name": "stdout",
          "text": [
            "The test accuracy is 0.8627.\n",
            "\n"
          ]
        }
      ],
      "source": [
        "# Test your model using test function you've implemented in solver.py\n",
        "test(sigmoidMLP, test_dataloader, device)"
      ]
    },
    {
      "cell_type": "code",
      "execution_count": 10,
      "metadata": {
        "id": "n-2V-B_er7T2",
        "colab": {
          "base_uri": "https://localhost:8080/"
        },
        "outputId": "fa39b724-cc56-4425-dc86-60a970d94867"
      },
      "outputs": [
        {
          "output_type": "stream",
          "name": "stdout",
          "text": [
            "\n",
            "Epoch [0] Average training loss: 0.0712, Average training accuracy: 0.6373\n",
            "\n",
            "Epoch [1] Average training loss: 0.0467, Average training accuracy: 0.8231\n",
            "\n",
            "Epoch [2] Average training loss: 0.0399, Average training accuracy: 0.8589\n",
            "\n",
            "Epoch [3] Average training loss: 0.0357, Average training accuracy: 0.8765\n",
            "\n",
            "Epoch [4] Average training loss: 0.0327, Average training accuracy: 0.8874\n",
            "\n",
            "Epoch [5] Average training loss: 0.0305, Average training accuracy: 0.8953\n",
            "\n",
            "Epoch [6] Average training loss: 0.0288, Average training accuracy: 0.9011\n",
            "\n",
            "Epoch [7] Average training loss: 0.0274, Average training accuracy: 0.9060\n",
            "\n",
            "Epoch [8] Average training loss: 0.0262, Average training accuracy: 0.9103\n",
            "\n",
            "Epoch [9] Average training loss: 0.0253, Average training accuracy: 0.9131\n",
            "\n",
            "Epoch [10] Average training loss: 0.0244, Average training accuracy: 0.9162\n",
            "\n",
            "Epoch [11] Average training loss: 0.0237, Average training accuracy: 0.9185\n",
            "\n",
            "Epoch [12] Average training loss: 0.0231, Average training accuracy: 0.9205\n",
            "\n",
            "Epoch [13] Average training loss: 0.0225, Average training accuracy: 0.9227\n",
            "\n",
            "Epoch [14] Average training loss: 0.0220, Average training accuracy: 0.9247\n",
            "\n",
            "Epoch [15] Average training loss: 0.0215, Average training accuracy: 0.9264\n",
            "\n",
            "Epoch [16] Average training loss: 0.0211, Average training accuracy: 0.9279\n",
            "\n",
            "Epoch [17] Average training loss: 0.0207, Average training accuracy: 0.9289\n",
            "\n",
            "Epoch [18] Average training loss: 0.0204, Average training accuracy: 0.9297\n",
            "\n",
            "Epoch [19] Average training loss: 0.0200, Average training accuracy: 0.9309\n"
          ]
        }
      ],
      "source": [
        "# Build MLP with FCLayer and ReLULayer\n",
        "reluMLP = nn.Sequential(\n",
        "    FCLayer(784, 128),\n",
        "    ReLULayer(),\n",
        "    FCLayer(128, 10)\n",
        ")\n",
        "\n",
        "# Initialize optimizer\n",
        "sgd = SGD(reluMLP.parameters(), learning_rate=0.01)\n",
        "\n",
        "# Train the model\n",
        "reluMLP = train(reluMLP, criterion, sgd, train_dataloader, num_epoch, device=device)"
      ]
    },
    {
      "cell_type": "code",
      "execution_count": 11,
      "metadata": {
        "id": "sLjxTbq8r7RZ",
        "colab": {
          "base_uri": "https://localhost:8080/"
        },
        "outputId": "81adcbca-d9d5-48dc-d3e8-d8acb57a076b"
      },
      "outputs": [
        {
          "output_type": "stream",
          "name": "stdout",
          "text": [
            "The test accuracy is 0.9313.\n",
            "\n"
          ]
        }
      ],
      "source": [
        "# Test the model\n",
        "test(reluMLP, test_dataloader, device)"
      ]
    },
    {
      "cell_type": "markdown",
      "metadata": {
        "id": "krsqZLJ-qQKH"
      },
      "source": [
        "### Overfit the model\n",
        "Try to overfit the reluMLP model. You can make the model as complex as you like, use subset of the data for training or any other approach you want.\n",
        "Then add **DropoutLayer** to your model in order to reduce overfitting problem."
      ]
    },
    {
      "cell_type": "code",
      "execution_count": 12,
      "metadata": {
        "id": "XbVFtro9qP1i"
      },
      "outputs": [],
      "source": [
        "#TODO: overfit the reluMLP model"
      ]
    },
    {
      "cell_type": "code",
      "source": [
        "# Use a small subset of the training data\n",
        "small_train_dataloader = torch.utils.data.DataLoader(\n",
        "    torch.utils.data.Subset(train_dataloader.dataset, range(100)),  # Only the first 100 samples\n",
        "    batch_size=32, shuffle=True\n",
        ")"
      ],
      "metadata": {
        "id": "c-HiaTLFOpN2"
      },
      "execution_count": 13,
      "outputs": []
    },
    {
      "cell_type": "code",
      "source": [
        "class ReluMLP(nn.Module):\n",
        "    def __init__(self, input_size, hidden_size, output_size):\n",
        "        super(ReluMLP, self).__init__()\n",
        "        self.fc1 = FCLayer(input_size, hidden_size)\n",
        "        self.relu1 = ReLULayer()\n",
        "        self.fc2 = FCLayer(hidden_size, hidden_size)  # Additional hidden layer\n",
        "        self.relu2 = ReLULayer()\n",
        "        self.fc3 = FCLayer(hidden_size, output_size)\n",
        "\n",
        "    def forward(self, x):\n",
        "        x = self.fc1.forward(x)\n",
        "        x = self.relu1.forward(x)\n",
        "        x = self.fc2.forward(x)\n",
        "        x = self.relu2.forward(x)\n",
        "        x = self.fc3.forward(x)\n",
        "        return x\n"
      ],
      "metadata": {
        "id": "r9AIZEonOqm5"
      },
      "execution_count": 14,
      "outputs": []
    },
    {
      "cell_type": "code",
      "source": [
        "\n",
        "reluMLP = ReluMLP(input_size=784, hidden_size=128, output_size=10)\n",
        "criterion = nn.CrossEntropyLoss()\n",
        "optimizer = torch.optim.SGD(reluMLP.parameters(), lr=0.01)\n",
        "\n",
        "# Train the model on the small subset for 30 epochs\n",
        "reluMLP = train(reluMLP, criterion, optimizer, small_train_dataloader, num_epoch=30, device=device)\n"
      ],
      "metadata": {
        "colab": {
          "base_uri": "https://localhost:8080/"
        },
        "id": "ZTA_tyFHPHtE",
        "outputId": "0b0d8008-7ae9-4451-e14d-1ec6658f11f0"
      },
      "execution_count": 15,
      "outputs": [
        {
          "output_type": "stream",
          "name": "stdout",
          "text": [
            "\n",
            "Epoch [0] Average training loss: 2.3141, Average training accuracy: 0.0469\n",
            "\n",
            "Epoch [1] Average training loss: 2.2730, Average training accuracy: 0.1641\n",
            "\n",
            "Epoch [2] Average training loss: 2.2412, Average training accuracy: 0.1094\n",
            "\n",
            "Epoch [3] Average training loss: 2.1480, Average training accuracy: 0.2812\n",
            "\n",
            "Epoch [4] Average training loss: 2.1573, Average training accuracy: 0.3828\n",
            "\n",
            "Epoch [5] Average training loss: 2.1363, Average training accuracy: 0.3438\n",
            "\n",
            "Epoch [6] Average training loss: 2.1216, Average training accuracy: 0.3828\n",
            "\n",
            "Epoch [7] Average training loss: 2.0583, Average training accuracy: 0.4766\n",
            "\n",
            "Epoch [8] Average training loss: 1.9839, Average training accuracy: 0.5078\n",
            "\n",
            "Epoch [9] Average training loss: 1.9563, Average training accuracy: 0.5469\n",
            "\n",
            "Epoch [10] Average training loss: 1.9708, Average training accuracy: 0.5625\n",
            "\n",
            "Epoch [11] Average training loss: 1.9563, Average training accuracy: 0.5078\n",
            "\n",
            "Epoch [12] Average training loss: 1.9329, Average training accuracy: 0.6094\n",
            "\n",
            "Epoch [13] Average training loss: 1.8094, Average training accuracy: 0.7188\n",
            "\n",
            "Epoch [14] Average training loss: 1.8351, Average training accuracy: 0.6016\n",
            "\n",
            "Epoch [15] Average training loss: 1.7532, Average training accuracy: 0.6641\n",
            "\n",
            "Epoch [16] Average training loss: 1.7675, Average training accuracy: 0.6328\n",
            "\n",
            "Epoch [17] Average training loss: 1.6208, Average training accuracy: 0.7500\n",
            "\n",
            "Epoch [18] Average training loss: 1.7130, Average training accuracy: 0.6953\n",
            "\n",
            "Epoch [19] Average training loss: 1.5745, Average training accuracy: 0.7734\n",
            "\n",
            "Epoch [20] Average training loss: 1.5893, Average training accuracy: 0.7266\n",
            "\n",
            "Epoch [21] Average training loss: 1.6177, Average training accuracy: 0.6719\n",
            "\n",
            "Epoch [22] Average training loss: 1.5853, Average training accuracy: 0.7500\n",
            "\n",
            "Epoch [23] Average training loss: 1.4884, Average training accuracy: 0.7578\n",
            "\n",
            "Epoch [24] Average training loss: 1.4446, Average training accuracy: 0.7422\n",
            "\n",
            "Epoch [25] Average training loss: 1.4610, Average training accuracy: 0.7109\n",
            "\n",
            "Epoch [26] Average training loss: 1.3751, Average training accuracy: 0.7578\n",
            "\n",
            "Epoch [27] Average training loss: 1.3872, Average training accuracy: 0.8359\n",
            "\n",
            "Epoch [28] Average training loss: 1.3501, Average training accuracy: 0.7812\n",
            "\n",
            "Epoch [29] Average training loss: 1.2933, Average training accuracy: 0.8438\n"
          ]
        }
      ]
    },
    {
      "cell_type": "code",
      "source": [
        "# Test the overfitted reluMLP model\n",
        "print(\"Testing the overfitted reluMLP model:\")\n",
        "test(reluMLP, test_dataloader, device=device)\n"
      ],
      "metadata": {
        "colab": {
          "base_uri": "https://localhost:8080/"
        },
        "id": "zr6VFb7WOsYs",
        "outputId": "8016826f-d8ce-49b5-8641-a868781aed08"
      },
      "execution_count": 16,
      "outputs": [
        {
          "output_type": "stream",
          "name": "stdout",
          "text": [
            "Testing the overfitted reluMLP model:\n",
            "The test accuracy is 0.5190.\n",
            "\n"
          ]
        }
      ]
    },
    {
      "cell_type": "markdown",
      "source": [
        "we can see the overfit on the training data."
      ],
      "metadata": {
        "id": "cqIbJeOhQ8pp"
      }
    },
    {
      "cell_type": "code",
      "execution_count": 17,
      "metadata": {
        "id": "BeCfvh6Jr7Om"
      },
      "outputs": [],
      "source": [
        "from layers import DropoutLayer\n",
        "\n",
        "class ReluMLPWithDropout(nn.Module):\n",
        "    def __init__(self, input_size, hidden_size, output_size, dropout_rate=0.5):\n",
        "        super(ReluMLPWithDropout, self).__init__()\n",
        "        self.fc1 = FCLayer(input_size, hidden_size)\n",
        "        self.relu1 = ReLULayer()\n",
        "        self.dropout1 = DropoutLayer(dropout_rate)\n",
        "        self.fc2 = FCLayer(hidden_size, hidden_size)  # Additional hidden layer\n",
        "        self.relu2 = ReLULayer()\n",
        "        self.dropout2 = DropoutLayer(dropout_rate)\n",
        "        self.fc3 = FCLayer(hidden_size, output_size)\n",
        "\n",
        "    def forward(self, x):\n",
        "        x = self.fc1.forward(x)\n",
        "        x = self.relu1.forward(x)\n",
        "        x = self.dropout1.forward(x)\n",
        "        x = self.fc2.forward(x)\n",
        "        x = self.relu2.forward(x)\n",
        "        x = self.dropout2.forward(x)\n",
        "        x = self.fc3.forward(x)\n",
        "        return x\n"
      ]
    },
    {
      "cell_type": "code",
      "execution_count": 25,
      "metadata": {
        "id": "UShs-KYlr7L4",
        "colab": {
          "base_uri": "https://localhost:8080/"
        },
        "outputId": "0eec84e9-707d-4113-eb3c-6fbbee081225"
      },
      "outputs": [
        {
          "output_type": "stream",
          "name": "stdout",
          "text": [
            "\n",
            "Epoch [0] Average training loss: 1.1219, Average training accuracy: 0.6305\n",
            "\n",
            "Epoch [1] Average training loss: 0.5765, Average training accuracy: 0.8266\n",
            "\n",
            "Epoch [2] Average training loss: 0.4639, Average training accuracy: 0.8638\n",
            "\n",
            "Epoch [3] Average training loss: 0.4060, Average training accuracy: 0.8827\n",
            "\n",
            "Epoch [4] Average training loss: 0.3646, Average training accuracy: 0.8956\n",
            "\n",
            "Epoch [5] Average training loss: 0.3371, Average training accuracy: 0.9030\n",
            "\n",
            "Epoch [6] Average training loss: 0.3139, Average training accuracy: 0.9104\n",
            "\n",
            "Epoch [7] Average training loss: 0.3051, Average training accuracy: 0.9135\n",
            "\n",
            "Epoch [8] Average training loss: 0.2846, Average training accuracy: 0.9180\n",
            "\n",
            "Epoch [9] Average training loss: 0.2725, Average training accuracy: 0.9230\n",
            "\n",
            "Epoch [10] Average training loss: 0.2598, Average training accuracy: 0.9252\n",
            "\n",
            "Epoch [11] Average training loss: 0.2502, Average training accuracy: 0.9273\n",
            "\n",
            "Epoch [12] Average training loss: 0.2363, Average training accuracy: 0.9317\n",
            "\n",
            "Epoch [13] Average training loss: 0.2324, Average training accuracy: 0.9336\n",
            "\n",
            "Epoch [14] Average training loss: 0.2287, Average training accuracy: 0.9344\n",
            "\n",
            "Epoch [15] Average training loss: 0.2228, Average training accuracy: 0.9366\n",
            "\n",
            "Epoch [16] Average training loss: 0.2139, Average training accuracy: 0.9399\n",
            "\n",
            "Epoch [17] Average training loss: 0.2080, Average training accuracy: 0.9405\n",
            "\n",
            "Epoch [18] Average training loss: 0.2049, Average training accuracy: 0.9405\n",
            "\n",
            "Epoch [19] Average training loss: 0.2027, Average training accuracy: 0.9414\n",
            "\n",
            "Epoch [20] Average training loss: 0.1975, Average training accuracy: 0.9435\n",
            "\n",
            "Epoch [21] Average training loss: 0.1904, Average training accuracy: 0.9436\n",
            "\n",
            "Epoch [22] Average training loss: 0.1923, Average training accuracy: 0.9443\n",
            "\n",
            "Epoch [23] Average training loss: 0.1875, Average training accuracy: 0.9462\n",
            "\n",
            "Epoch [24] Average training loss: 0.1812, Average training accuracy: 0.9484\n",
            "\n",
            "Epoch [25] Average training loss: 0.1794, Average training accuracy: 0.9483\n",
            "\n",
            "Epoch [26] Average training loss: 0.1771, Average training accuracy: 0.9477\n",
            "\n",
            "Epoch [27] Average training loss: 0.1723, Average training accuracy: 0.9498\n",
            "\n",
            "Epoch [28] Average training loss: 0.1720, Average training accuracy: 0.9497\n",
            "\n",
            "Epoch [29] Average training loss: 0.1710, Average training accuracy: 0.9502\n"
          ]
        }
      ],
      "source": [
        "\n",
        "reluMLPWithDropout = ReluMLPWithDropout(input_size=784, hidden_size=128, output_size=10, dropout_rate=0.5)\n",
        "criterion = nn.CrossEntropyLoss()\n",
        "optimizer = torch.optim.SGD(reluMLPWithDropout.parameters(), lr=0.01)\n",
        "\n",
        "# Train the model on the full dataset\n",
        "reluMLPWithDropout = train(reluMLPWithDropout, criterion, optimizer, train_dataloader, num_epoch=30, device=device)\n"
      ]
    },
    {
      "cell_type": "code",
      "execution_count": 26,
      "metadata": {
        "id": "0rg3t81mqNm9",
        "colab": {
          "base_uri": "https://localhost:8080/"
        },
        "outputId": "3effb215-a8a4-4e6d-cda8-2bd9ca67cc2e"
      },
      "outputs": [
        {
          "output_type": "stream",
          "name": "stdout",
          "text": [
            "Testing the reluMLPWithDropout model:\n",
            "The test accuracy is 0.9718.\n",
            "\n"
          ]
        }
      ],
      "source": [
        "# Test the reluMLPWithDropout model\n",
        "print(\"Testing the reluMLPWithDropout model:\")\n",
        "test(reluMLPWithDropout, test_dataloader, device=device)\n"
      ]
    }
  ],
  "metadata": {
    "colab": {
      "provenance": []
    },
    "kernelspec": {
      "display_name": "Python 3",
      "name": "python3"
    },
    "language_info": {
      "codemirror_mode": {
        "name": "ipython",
        "version": 3
      },
      "file_extension": ".py",
      "mimetype": "text/x-python",
      "name": "python",
      "nbconvert_exporter": "python",
      "pygments_lexer": "ipython3",
      "version": "3.11.3"
    }
  },
  "nbformat": 4,
  "nbformat_minor": 0
}