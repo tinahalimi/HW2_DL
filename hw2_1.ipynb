{
 "cells": [
  {
   "cell_type": "code",
   "execution_count": 3,
   "metadata": {
    "id": "i7I7O1kv0S21"
   },
   "outputs": [],
   "source": [
    "# Feel free to import any other libraries and modules.\n",
    "import numpy as np\n",
    "import matplotlib.pyplot as plt\n",
    "import torch\n",
    "from torchvision import datasets, transforms\n",
    "import torch.nn.functional as F\n",
    "from torch.utils.data import TensorDataset, DataLoader\n",
    "from torch import nn"
   ]
  },
  {
   "cell_type": "markdown",
   "metadata": {
    "id": "CeXRppkryQBV"
   },
   "source": [
    "# Part One: Optimization Algorithms\n",
    "## 1. Gradient Descent\n",
    "The Gradient Descent (GD) algorithm finds the minimum of a given\n",
    "function by taking small steps along the function's gradient:\n",
    "\n",
    ">$\\Theta \\leftarrow \\Theta_0$\n",
    "\n",
    ">**while** stop condition not met **do**\n",
    "\n",
    ">$~~~~$$\\Theta \\leftarrow \\Theta - \\alpha \\nabla_\\Theta f(\\Theta)$\n",
    "\n",
    ">**end while**\n",
    "\n",
    "where $f$ is the function to minimize, $\\nabla_\\Theta f(\\Theta)$\n",
    "denotes $f$'s gradient at $\\Theta$ and $\\alpha$ is the learning rate.\n",
    "\n",
    "**Task1:** Implement the GD algorithm as a function:\n",
    "\n",
    "  \\begin{equation}\n",
    "      \\Theta_{opt} = \\text{GD}(f, \\Theta_0, \\alpha, \\rho)\n",
    "  \\end{equation}\n",
    "where $f$ is a function returning the cost and its gradient with respect to parameter vector $\\Theta$, $\\Theta_0$ is the initial value, and $\\alpha$\n",
    "is the learning rate. You can assume that $\\alpha$. remains constant during the optimization. $\\rho$ is stop condition. \\\\\n",
    "Then, use the GD algorithm to find the optimum of the [Rosenbrock function](https://en.wikipedia.org/wiki/Rosenbrock_function) (Consider $a=1, b=100$).\n",
    " \\\\\n",
    "Also, plot the values found by GD at subsequent iterations.\n",
    "\n",
    "## 2. Newton's Method\n",
    "Newton's method is an iterative optimization algorithm used to find the minimum of a function.\n",
    "The basic update step in Newton's method is given by:\n",
    "\n",
    "\\begin{equation}\n",
    "\\Theta = \\Theta - H^{-1} \\cdot \\nabla f(\\Theta)\n",
    "\\end{equation}\n",
    "\n",
    "\n",
    "Where  $ H $ is the Hessian matrix of the function at $ \\Theta $, and $ H^{-1} $ is the inverse of the Hessian matrix, used to adjust the step size and direction more accurately than just using the gradient alone (as done in gradient descent).\n",
    "\n",
    "#### Line Search\n",
    "Sometimes, Newton's method may take too large of a step, which can lead to divergence. To prevent this, a simple **line search** is used. This reduces the step size $ \\alpha $ if the function value doesn't improve after the step.\n",
    "\n",
    "Steps:\n",
    "1. Compute the gradient and Hessian matrix at the current point.\n",
    "2. Calculate the step direction by multiplying the inverse of the Hessian with the gradient.\n",
    "3. Update the point by subtracting the step from the current point.\n",
    "4. If the function value doesn't improve, reduce the step size $ \\alpha $.\n",
    "5. Repeat until the gradient becomes sufficiently small (close to zero), indicating convergence.\n",
    "\n",
    "\n",
    "\n",
    "**Task2:** Implement Newton's method and compare it with the gradient descent. You will also need to implement a line search alogithm, e.g. (https://en.wikipedia.org/wiki/Backtracking_line_search) and make sure that the Newton's direction is indeed one along which the function is minimized.\n"
   ]
  },
  {
   "cell_type": "code",
   "execution_count": null,
   "metadata": {
    "id": "DIsMJPFs-kLd"
   },
   "outputs": [],
   "source": [
    "def rosenbrock(x):\n",
    "    \"\"\"Returns the value and gradient of Rosenbrock's function at x: 2d vector\"\"\"\n",
    "    a, b = 1, 100\n",
    "    val = (a - x[0])**2 + b * (x[1] - x[0]**2)**2\n",
    "\n",
    "    # partial derivatives\n",
    "    dv_dx0 = -2 * (a - x[0]) - 4 * b * x[0] * (x[1] - x[0]**2)\n",
    "    dv_dx1 = 2 * b * (x[1] - x[0]**2)\n",
    "\n",
    "    grad = np.array([dv_dx0, dv_dx1])\n",
    "\n",
    "    return val, grad\n",
    "\n",
    "\n",
    "def rosenbrock_hessian(x):\n",
    "    \"\"\"Returns the value, gradient and hessian of Rosenbrock's function at x: 2d vector\"\"\"\n",
    "    val, grad = rosenbrock(x)\n",
    "\n",
    "    # Hessian\n",
    "    a, b = 1, 100\n",
    "    d2v_dx0x0 = 2 - 4 * b * (x[1] - 3 * x[0]**2)\n",
    "    d2v_dx0x1 = -4 * b * x[0]\n",
    "    d2v_dx1x0 = -4 * b * x[0]\n",
    "    d2v_dx1x1 = 2 * b\n",
    "\n",
    "    hessian = np.array([[d2v_dx0x0, d2v_dx0x1],\n",
    "                        [d2v_dx1x0, d2v_dx1x1]])\n",
    "\n",
    "    return val, grad, hessian\n",
    "\n",
    "\n",
    "\n",
    "def GD(f, theta0, alpha, stop_tolerance=1e-10, max_steps=1000000):\n",
    "    \"\"\"Runs gradient descent algorithm on f.\n",
    "\n",
    "    Args:\n",
    "        f: function that when evaluated on a Theta of same dtype and shape as Theta0\n",
    "            returns a tuple (value, dv_dtheta) with dValuedTheta of the same shape\n",
    "            as Theta\n",
    "        theta0: starting point\n",
    "        alpha: step length\n",
    "        stop_tolerance: stop iterations when improvement is below this threshold\n",
    "        max_steps: maximum number of steps\n",
    "    Returns:\n",
    "        tuple:\n",
    "        - theta: optimum theta found by the algorithm\n",
    "        - history: list of length num_steps containing tuples (theta, (val, dv_dtheta: np.array))\n",
    "\n",
    "    \"\"\"\n",
    "    history = []\n",
    "    theta = theta0\n",
    "    step = 0\n",
    "\n",
    "    while step < max_steps:\n",
    "        val, grad = f(theta)\n",
    "        history.append((theta.copy(), (val, grad)))\n",
    "\n",
    "        theta -= alpha * grad\n",
    "        step += 1\n",
    "\n",
    "        if np.linalg.norm(grad) < stop_tolerance:\n",
    "            break\n",
    "\n",
    "    return theta, history"
   ]
  },
  {
   "cell_type": "code",
   "execution_count": null,
   "metadata": {
    "colab": {
     "base_uri": "https://localhost:8080/",
     "height": 490
    },
    "id": "yyb5unZNaSFq",
    "outputId": "22face5a-12d8-46ab-c632-6446ac89ad87"
   },
   "outputs": [
    {
     "name": "stdout",
     "output_type": "stream",
     "text": [
      "Found optimum at [1. 1.] in 54320 steps (true minimum is at [1,1])\n"
     ]
    },
    {
     "data": {
      "image/png": "[encoded data removed]",
      "text/plain": [
       "<Figure size 640x480 with 1 Axes>"
      ]
     },
     "metadata": {},
     "output_type": "display_data"
    }
   ],
   "source": [
    "# Find the optimum of rosenbrock function\n",
    "\n",
    "X0 = [0.,2.]\n",
    "Xopt, Xhist = GD(rosenbrock, X0, alpha=1e-3, stop_tolerance=1e-10, max_steps=1e6)\n",
    "\n",
    "print (\"Found optimum at %s in %d steps (true minimum is at [1,1])\" % (Xopt, len(Xhist)))\n",
    "\n",
    "iterations = range(len(Xhist))\n",
    "values = [item[1][0] for item in Xhist]  # item[1][0] is the function value\n",
    "\n",
    "plt.plot(iterations, values)\n",
    "plt.xlabel('Iteration')\n",
    "plt.ylabel('Function Value')\n",
    "plt.title('Rosenbrock Function Value over Gradient Descent Iterations')\n",
    "plt.yscale('log')\n",
    "plt.show()\n",
    "\n"
   ]
  },
  {
   "cell_type": "code",
   "execution_count": null,
   "metadata": {
    "colab": {
     "base_uri": "https://localhost:8080/"
    },
    "id": "JQ1Bf6sNMT_B",
    "outputId": "c8a408de-a4cc-4eba-8bcf-258b298a303d"
   },
   "outputs": [
    {
     "name": "stdout",
     "output_type": "stream",
     "text": [
      "Found optimum at [1. 1.] (true minimum is at [1,1])\n"
     ]
    }
   ],
   "source": [
    "# Newton's Method\n",
    "def Newton(f, theta0, alpha=1, stop_tolerance=1e-10, max_steps=1000000):\n",
    "    \"\"\"Performs Newton's optimization method with a simple line search.\n",
    "\n",
    "    Args:\n",
    "        f: function that when evaluated on a Theta of same dtype and shape as Theta0\n",
    "            returns a tuple (value, gradient, hessian), where gradient and Hessian\n",
    "            have the same shape as Theta.\n",
    "        theta0: starting point.\n",
    "        alpha: step length for backtracking line search (default is 1).\n",
    "        stop_tolerance: stop iterations when the norm of the gradient is below this threshold.\n",
    "        max_steps: maximum number of iterations.\n",
    "    Returns:\n",
    "        tuple:\n",
    "        - theta: optimal Theta after convergence or maximum steps.\n",
    "        - history: list of tuples (theta, value, gradient) containing the optimization path.\n",
    "    \"\"\"\n",
    "    theta = np.array(theta0, dtype=float)\n",
    "    history = []\n",
    "    step = 0\n",
    "\n",
    "    while step < max_steps:\n",
    "        val, grad, hessian = f(theta)\n",
    "        history.append((theta.copy(), val, grad))\n",
    "\n",
    "        try:\n",
    "            hessian_inv = np.linalg.inv(hessian)\n",
    "            delta = -hessian_inv @ grad\n",
    "        except np.linalg.LinAlgError:\n",
    "            print(\"Hessian is singular, stopping optimization.\")\n",
    "            break\n",
    "\n",
    "        step_size = alpha\n",
    "        new_theta = theta + step_size * delta\n",
    "        new_val, _, _ = f(new_theta)\n",
    "        while new_val > val:\n",
    "            step_size *= 0.5\n",
    "            new_theta = theta + step_size * delta\n",
    "            new_val, _, _ = f(new_theta)\n",
    "\n",
    "        # Update theta\n",
    "        theta = new_theta\n",
    "        step += 1\n",
    "\n",
    "        if np.linalg.norm(grad) < stop_tolerance:\n",
    "            break\n",
    "\n",
    "    return theta, history\n",
    "\n",
    "# Test Newton's method on the Rosenbrock function\n",
    "X0 = [0., 2.]  # Initial guess\n",
    "Xopt, Xhist = Newton(rosenbrock_hessian, X0)\n",
    "\n",
    "print(\"Found optimum at %s (true minimum is at [1,1])\" % Xopt)"
   ]
  },
  {
   "cell_type": "markdown",
   "metadata": {
    "id": "wNXtvq8u-JSo"
   },
   "source": [
    "# Part two: MLP for MNIST Classification\n",
    "In this part, we are going to use `PyTorch`. If you want to become more familiar with it, check this resource: https://www.learnpytorch.io/\n",
    "\n",
    "#### In this homework, you need to\n",
    "- implement SGD optimizer (`./optimizer.py`)\n",
    "- implement forward and backward for FCLayer (`layers.py`)\n",
    "- implement forward and backward for SigmoidLayer (`layers.py`)\n",
    "- implement forward and backward for ReLULayer (`layers.py`)\n",
    "- implement forward and backward for DropoutLayer (`layers.py`)\n",
    "- implement train and test process (`solver.py`)"
   ]
  },
  {
   "cell_type": "code",
   "execution_count": 4,
   "metadata": {
    "id": "zWtm2k5Ir-XQ"
   },
   "outputs": [],
   "source": [
    "from layers import FCLayer, SigmoidLayer, ReLULayer\n",
    "from solver import train, test\n",
    "from optimizer import SGD"
   ]
  },
  {
   "cell_type": "code",
   "execution_count": 5,
   "metadata": {
    "colab": {
     "base_uri": "https://localhost:8080/",
     "height": 35
    },
    "id": "NRwL2rM0O92Z",
    "outputId": "68b4b719-d527-4513-e893-9b2cc3b488f8"
   },
   "outputs": [
    {
     "data": {
      "application/vnd.google.colaboratory.intrinsic+json": {
       "type": "string"
      },
      "text/plain": [
       "'cpu'"
      ]
     },
     "execution_count": 5,
     "metadata": {},
     "output_type": "execute_result"
    }
   ],
   "source": [
    "seed = 42\n",
    "torch.manual_seed(seed)\n",
    "np.random.seed(seed)\n",
    "device = \"cuda\" if torch.cuda.is_available() else \"cpu\"\n",
    "device"
   ]
  },
  {
   "cell_type": "code",
   "execution_count": 6,
   "metadata": {
    "colab": {
     "base_uri": "https://localhost:8080/"
    },
    "id": "bCXcnjSYaR-R",
    "outputId": "753dce21-37cc-4d8c-c852-e56faad7b216"
   },
   "outputs": [
    {
     "name": "stdout",
     "output_type": "stream",
     "text": [
      "Downloading http://yann.lecun.com/exdb/mnist/train-images-idx3-ubyte.gz\n",
      "Failed to download (trying next):\n",
      "HTTP Error 403: Forbidden\n",
      "\n",
      "Downloading https://ossci-datasets.s3.amazonaws.com/mnist/train-images-idx3-ubyte.gz\n",
      "Downloading https://ossci-datasets.s3.amazonaws.com/mnist/train-images-idx3-ubyte.gz to ./data/MNIST/raw/train-images-idx3-ubyte.gz\n"
     ]
    },
    {
     "name": "stderr",
     "output_type": "stream",
     "text": [
      "100%|██████████| 9.91M/9.91M [00:00<00:00, 33.7MB/s]\n"
     ]
    },
    {
     "name": "stdout",
     "output_type": "stream",
     "text": [
      "Extracting ./data/MNIST/raw/train-images-idx3-ubyte.gz to ./data/MNIST/raw\n",
      "\n",
      "Downloading http://yann.lecun.com/exdb/mnist/train-labels-idx1-ubyte.gz\n",
      "Failed to download (trying next):\n",
      "HTTP Error 403: Forbidden\n",
      "\n",
      "Downloading https://ossci-datasets.s3.amazonaws.com/mnist/train-labels-idx1-ubyte.gz\n",
      "Downloading https://ossci-datasets.s3.amazonaws.com/mnist/train-labels-idx1-ubyte.gz to ./data/MNIST/raw/train-labels-idx1-ubyte.gz\n"
     ]
    },
    {
     "name": "stderr",
     "output_type": "stream",
     "text": [
      "100%|██████████| 28.9k/28.9k [00:00<00:00, 1.17MB/s]\n"
     ]
    },
    {
     "name": "stdout",
     "output_type": "stream",
     "text": [
      "Extracting ./data/MNIST/raw/train-labels-idx1-ubyte.gz to ./data/MNIST/raw\n",
      "\n",
      "Downloading http://yann.lecun.com/exdb/mnist/t10k-images-idx3-ubyte.gz\n",
      "Failed to download (trying next):\n",
      "HTTP Error 403: Forbidden\n",
      "\n",
      "Downloading https://ossci-datasets.s3.amazonaws.com/mnist/t10k-images-idx3-ubyte.gz\n",
      "Downloading https://ossci-datasets.s3.amazonaws.com/mnist/t10k-images-idx3-ubyte.gz to ./data/MNIST/raw/t10k-images-idx3-ubyte.gz\n"
     ]
    },
    {
     "name": "stderr",
     "output_type": "stream",
     "text": [
      "100%|██████████| 1.65M/1.65M [00:00<00:00, 10.7MB/s]\n"
     ]
    },
    {
     "name": "stdout",
     "output_type": "stream",
     "text": [
      "Extracting ./data/MNIST/raw/t10k-images-idx3-ubyte.gz to ./data/MNIST/raw\n",
      "\n",
      "Downloading http://yann.lecun.com/exdb/mnist/t10k-labels-idx1-ubyte.gz\n",
      "Failed to download (trying next):\n",
      "HTTP Error 403: Forbidden\n",
      "\n",
      "Downloading https://ossci-datasets.s3.amazonaws.com/mnist/t10k-labels-idx1-ubyte.gz\n",
      "Downloading https://ossci-datasets.s3.amazonaws.com/mnist/t10k-labels-idx1-ubyte.gz to ./data/MNIST/raw/t10k-labels-idx1-ubyte.gz\n"
     ]
    },
    {
     "name": "stderr",
     "output_type": "stream",
     "text": [
      "100%|██████████| 4.54k/4.54k [00:00<00:00, 1.73MB/s]\n"
     ]
    },
    {
     "name": "stdout",
     "output_type": "stream",
     "text": [
      "Extracting ./data/MNIST/raw/t10k-labels-idx1-ubyte.gz to ./data/MNIST/raw\n",
      "\n"
     ]
    }
   ],
   "source": [
    "# Load MNIST dataset\n",
    "\n",
    "# Converts PIL image to tensor and scales to [0, 1] and flatten it\n",
    "transform = transforms.Compose([\n",
    "    transforms.ToTensor(),\n",
    "    transforms.Lambda(lambda x: x.view(-1)),\n",
    "])\n",
    "\n",
    "# Load MNIST dataset with the defined transform\n",
    "train_dataset = datasets.MNIST(root='./data', train=True, download=True, transform=transform)\n",
    "test_dataset = datasets.MNIST(root='./data', train=False, download=True, transform=transform)\n",
    "\n",
    "# One-hot encoding for labels\n",
    "def decode_label(label, num_classes=10):\n",
    "    return torch.nn.functional.one_hot(torch.tensor(label), num_classes=num_classes).float()\n",
    "\n",
    "# Preprocess labels and combine with transformed images\n",
    "y_train = [decode_label(label) for _, label in train_dataset]\n",
    "y_test = [decode_label(label) for _, label in test_dataset]\n",
    "\n",
    "# Convert the data into tensor datasets for training and testing\n",
    "train_dataset = TensorDataset(torch.stack([img for img, _ in train_dataset]), torch.stack(y_train))\n",
    "test_dataset = TensorDataset(torch.stack([img for img, _ in test_dataset]), torch.stack(y_test))\n",
    "\n",
    "# Create data loaders\n",
    "train_dataloader = DataLoader(train_dataset, batch_size=32, shuffle=True)\n",
    "test_dataloader = DataLoader(test_dataset, batch_size=32, shuffle=False)"
   ]
  },
  {
   "cell_type": "code",
   "execution_count": 7,
   "metadata": {
    "colab": {
     "base_uri": "https://localhost:8080/"
    },
    "id": "NkRty2cM-kIt",
    "outputId": "3d5440f3-1494-4d2b-da37-d9440f1e8cc1"
   },
   "outputs": [
    {
     "name": "stdout",
     "output_type": "stream",
     "text": [
      "\n",
      "Epoch [0] Average training loss: 0.0771, Average training accuracy: 0.4956\n",
      "\n",
      "Epoch [1] Average training loss: 0.0556, Average training accuracy: 0.7378\n",
      "\n",
      "Epoch [2] Average training loss: 0.0506, Average training accuracy: 0.7835\n",
      "\n",
      "Epoch [3] Average training loss: 0.0482, Average training accuracy: 0.8046\n",
      "\n",
      "Epoch [4] Average training loss: 0.0466, Average training accuracy: 0.8173\n",
      "\n",
      "Epoch [5] Average training loss: 0.0456, Average training accuracy: 0.8254\n",
      "\n",
      "Epoch [6] Average training loss: 0.0448, Average training accuracy: 0.8307\n",
      "\n",
      "Epoch [7] Average training loss: 0.0442, Average training accuracy: 0.8344\n",
      "\n",
      "Epoch [8] Average training loss: 0.0437, Average training accuracy: 0.8384\n",
      "\n",
      "Epoch [9] Average training loss: 0.0432, Average training accuracy: 0.8408\n",
      "\n",
      "Epoch [10] Average training loss: 0.0429, Average training accuracy: 0.8430\n",
      "\n",
      "Epoch [11] Average training loss: 0.0426, Average training accuracy: 0.8455\n",
      "\n",
      "Epoch [12] Average training loss: 0.0423, Average training accuracy: 0.8465\n",
      "\n",
      "Epoch [13] Average training loss: 0.0420, Average training accuracy: 0.8474\n",
      "\n",
      "Epoch [14] Average training loss: 0.0418, Average training accuracy: 0.8489\n",
      "\n",
      "Epoch [15] Average training loss: 0.0415, Average training accuracy: 0.8504\n",
      "\n",
      "Epoch [16] Average training loss: 0.0413, Average training accuracy: 0.8517\n",
      "\n",
      "Epoch [17] Average training loss: 0.0411, Average training accuracy: 0.8514\n",
      "\n",
      "Epoch [18] Average training loss: 0.0409, Average training accuracy: 0.8529\n",
      "\n",
      "Epoch [19] Average training loss: 0.0407, Average training accuracy: 0.8533\n"
     ]
    }
   ],
   "source": [
    "num_epoch = 20\n",
    "\n",
    "criterion = nn.MSELoss()\n",
    "\n",
    "# Build MLP with FCLayer and SigmoidLayer you've implemented in layers.py\n",
    "sigmoidMLP = nn.Sequential(\n",
    "    FCLayer(784, 128),\n",
    "    SigmoidLayer(),\n",
    "    FCLayer(128, 10)\n",
    ")\n",
    "\n",
    "# Initialize optimizer you've implemented in optimizer.py\n",
    "sgd = SGD(params=sigmoidMLP.parameters(), learning_rate=0.01)\n",
    "\n",
    "# Train the model using train function you've implemented in solver.py\n",
    "sigmoidMLP = train(sigmoidMLP, criterion, sgd, train_dataloader, num_epoch, device=device)"
   ]
  },
  {
   "cell_type": "code",
   "execution_count": 8,
   "metadata": {
    "colab": {
     "base_uri": "https://localhost:8080/"
    },
    "id": "F0otZUFrr7WW",
    "outputId": "e8b1e78c-5fef-41fa-f787-1b9490f1be91"
   },
   "outputs": [
    {
     "name": "stdout",
     "output_type": "stream",
     "text": [
      "The test accuracy is 0.8627.\n",
      "\n"
     ]
    }
   ],
   "source": [
    "# Test your model using test function you've implemented in solver.py\n",
    "test(sigmoidMLP, test_dataloader, device)"
   ]
  },
  {
   "cell_type": "code",
   "execution_count": 9,
   "metadata": {
    "colab": {
     "base_uri": "https://localhost:8080/"
    },
    "id": "n-2V-B_er7T2",
    "outputId": "b8335996-6575-4abc-b91a-5782a8e4a713"
   },
   "outputs": [
    {
     "name": "stdout",
     "output_type": "stream",
     "text": [
      "\n",
      "Epoch [0] Average training loss: 0.0712, Average training accuracy: 0.6373\n",
      "\n",
      "Epoch [1] Average training loss: 0.0467, Average training accuracy: 0.8231\n",
      "\n",
      "Epoch [2] Average training loss: 0.0399, Average training accuracy: 0.8589\n",
      "\n",
      "Epoch [3] Average training loss: 0.0357, Average training accuracy: 0.8765\n",
      "\n",
      "Epoch [4] Average training loss: 0.0327, Average training accuracy: 0.8874\n",
      "\n",
      "Epoch [5] Average training loss: 0.0305, Average training accuracy: 0.8953\n",
      "\n",
      "Epoch [6] Average training loss: 0.0288, Average training accuracy: 0.9011\n",
      "\n",
      "Epoch [7] Average training loss: 0.0274, Average training accuracy: 0.9060\n",
      "\n",
      "Epoch [8] Average training loss: 0.0262, Average training accuracy: 0.9103\n",
      "\n",
      "Epoch [9] Average training loss: 0.0253, Average training accuracy: 0.9131\n",
      "\n",
      "Epoch [10] Average training loss: 0.0244, Average training accuracy: 0.9162\n",
      "\n",
      "Epoch [11] Average training loss: 0.0237, Average training accuracy: 0.9185\n",
      "\n",
      "Epoch [12] Average training loss: 0.0231, Average training accuracy: 0.9205\n",
      "\n",
      "Epoch [13] Average training loss: 0.0225, Average training accuracy: 0.9227\n",
      "\n",
      "Epoch [14] Average training loss: 0.0220, Average training accuracy: 0.9247\n",
      "\n",
      "Epoch [15] Average training loss: 0.0215, Average training accuracy: 0.9264\n",
      "\n",
      "Epoch [16] Average training loss: 0.0211, Average training accuracy: 0.9279\n",
      "\n",
      "Epoch [17] Average training loss: 0.0207, Average training accuracy: 0.9289\n",
      "\n",
      "Epoch [18] Average training loss: 0.0204, Average training accuracy: 0.9297\n",
      "\n",
      "Epoch [19] Average training loss: 0.0200, Average training accuracy: 0.9309\n"
     ]
    }
   ],
   "source": [
    "# Build MLP with FCLayer and ReLULayer\n",
    "reluMLP = nn.Sequential(\n",
    "    FCLayer(784, 128),\n",
    "    ReLULayer(),\n",
    "    FCLayer(128, 10)\n",
    ")\n",
    "\n",
    "# Initialize optimizer\n",
    "sgd = SGD(reluMLP.parameters(), learning_rate=0.01)\n",
    "\n",
    "# Train the model\n",
    "reluMLP = train(reluMLP, criterion, sgd, train_dataloader, num_epoch, device=device)"
   ]
  },
  {
   "cell_type": "code",
   "execution_count": 10,
   "metadata": {
    "colab": {
     "base_uri": "https://localhost:8080/"
    },
    "id": "sLjxTbq8r7RZ",
    "outputId": "a1da60dc-e704-4242-b5d8-559a91d789c3"
   },
   "outputs": [
    {
     "name": "stdout",
     "output_type": "stream",
     "text": [
      "The test accuracy is 0.9313.\n",
      "\n"
     ]
    }
   ],
   "source": [
    "# Test the model\n",
    "test(reluMLP, test_dataloader, device)"
   ]
  },
  {
   "cell_type": "markdown",
   "metadata": {
    "id": "krsqZLJ-qQKH"
   },
   "source": [
    "### Overfit the model\n",
    "Try to overfit the reluMLP model. You can make the model as complex as you like, use subset of the data for training or any other approach you want.\n",
    "Then add **DropoutLayer** to your model in order to reduce overfitting problem."
   ]
  },
  {
   "cell_type": "code",
   "execution_count": null,
   "metadata": {
    "id": "XbVFtro9qP1i"
   },
   "outputs": [],
   "source": [
    "#TODO: overfit the reluMLP model"
   ]
  },
  {
   "cell_type": "code",
   "execution_count": 12,
   "metadata": {
    "id": "c-HiaTLFOpN2"
   },
   "outputs": [],
   "source": [
    "# Use a small subset of the training data\n",
    "small_train_dataloader = torch.utils.data.DataLoader(\n",
    "    torch.utils.data.Subset(train_dataloader.dataset, range(100)),  # Only the first 100 samples\n",
    "    batch_size=32, shuffle=True\n",
    ")"
   ]
  },
  {
   "cell_type": "code",
   "execution_count": 13,
   "metadata": {
    "id": "r9AIZEonOqm5"
   },
   "outputs": [],
   "source": [
    "class ReluMLP(nn.Module):\n",
    "    def __init__(self, input_size, hidden_size, output_size):\n",
    "        super(ReluMLP, self).__init__()\n",
    "        self.fc1 = FCLayer(input_size, hidden_size)\n",
    "        self.relu1 = ReLULayer()\n",
    "        self.fc2 = FCLayer(hidden_size, hidden_size)  # Additional hidden layer\n",
    "        self.relu2 = ReLULayer()\n",
    "        self.fc3 = FCLayer(hidden_size, output_size)\n",
    "\n",
    "    def forward(self, x):\n",
    "        x = self.fc1.forward(x)\n",
    "        x = self.relu1.forward(x)\n",
    "        x = self.fc2.forward(x)\n",
    "        x = self.relu2.forward(x)\n",
    "        x = self.fc3.forward(x)\n",
    "        return x\n"
   ]
  },
  {
   "cell_type": "code",
   "execution_count": 14,
   "metadata": {
    "colab": {
     "base_uri": "https://localhost:8080/"
    },
    "id": "ZTA_tyFHPHtE",
    "outputId": "7a36628f-3000-4020-8589-1fb013c0e0c9"
   },
   "outputs": [
    {
     "name": "stdout",
     "output_type": "stream",
     "text": [
      "\n",
      "Epoch [0] Average training loss: 2.3141, Average training accuracy: 0.0469\n",
      "\n",
      "Epoch [1] Average training loss: 2.2730, Average training accuracy: 0.1641\n",
      "\n",
      "Epoch [2] Average training loss: 2.2412, Average training accuracy: 0.1094\n",
      "\n",
      "Epoch [3] Average training loss: 2.1480, Average training accuracy: 0.2812\n",
      "\n",
      "Epoch [4] Average training loss: 2.1573, Average training accuracy: 0.3828\n",
      "\n",
      "Epoch [5] Average training loss: 2.1363, Average training accuracy: 0.3438\n",
      "\n",
      "Epoch [6] Average training loss: 2.1216, Average training accuracy: 0.3828\n",
      "\n",
      "Epoch [7] Average training loss: 2.0583, Average training accuracy: 0.4766\n",
      "\n",
      "Epoch [8] Average training loss: 1.9839, Average training accuracy: 0.5078\n",
      "\n",
      "Epoch [9] Average training loss: 1.9563, Average training accuracy: 0.5469\n",
      "\n",
      "Epoch [10] Average training loss: 1.9708, Average training accuracy: 0.5625\n",
      "\n",
      "Epoch [11] Average training loss: 1.9563, Average training accuracy: 0.5078\n",
      "\n",
      "Epoch [12] Average training loss: 1.9329, Average training accuracy: 0.6094\n",
      "\n",
      "Epoch [13] Average training loss: 1.8094, Average training accuracy: 0.7188\n",
      "\n",
      "Epoch [14] Average training loss: 1.8351, Average training accuracy: 0.6016\n",
      "\n",
      "Epoch [15] Average training loss: 1.7532, Average training accuracy: 0.6641\n",
      "\n",
      "Epoch [16] Average training loss: 1.7675, Average training accuracy: 0.6328\n",
      "\n",
      "Epoch [17] Average training loss: 1.6208, Average training accuracy: 0.7500\n",
      "\n",
      "Epoch [18] Average training loss: 1.7130, Average training accuracy: 0.6953\n",
      "\n",
      "Epoch [19] Average training loss: 1.5745, Average training accuracy: 0.7734\n",
      "\n",
      "Epoch [20] Average training loss: 1.5893, Average training accuracy: 0.7266\n",
      "\n",
      "Epoch [21] Average training loss: 1.6177, Average training accuracy: 0.6719\n",
      "\n",
      "Epoch [22] Average training loss: 1.5853, Average training accuracy: 0.7500\n",
      "\n",
      "Epoch [23] Average training loss: 1.4884, Average training accuracy: 0.7578\n",
      "\n",
      "Epoch [24] Average training loss: 1.4446, Average training accuracy: 0.7422\n",
      "\n",
      "Epoch [25] Average training loss: 1.4610, Average training accuracy: 0.7109\n",
      "\n",
      "Epoch [26] Average training loss: 1.3751, Average training accuracy: 0.7578\n",
      "\n",
      "Epoch [27] Average training loss: 1.3872, Average training accuracy: 0.8359\n",
      "\n",
      "Epoch [28] Average training loss: 1.3501, Average training accuracy: 0.7812\n",
      "\n",
      "Epoch [29] Average training loss: 1.2933, Average training accuracy: 0.8438\n"
     ]
    }
   ],
   "source": [
    "\n",
    "reluMLP = ReluMLP(input_size=784, hidden_size=128, output_size=10)\n",
    "criterion = nn.CrossEntropyLoss()\n",
    "optimizer = torch.optim.SGD(reluMLP.parameters(), lr=0.01)\n",
    "\n",
    "# Train the model on the small subset for 30 epochs\n",
    "reluMLP = train(reluMLP, criterion, optimizer, small_train_dataloader, num_epoch=30, device=device)\n"
   ]
  },
  {
   "cell_type": "code",
   "execution_count": 15,
   "metadata": {
    "colab": {
     "base_uri": "https://localhost:8080/"
    },
    "id": "zr6VFb7WOsYs",
    "outputId": "a766e395-42f2-4904-af0e-b33538ee86d0"
   },
   "outputs": [
    {
     "name": "stdout",
     "output_type": "stream",
     "text": [
      "Testing the overfitted reluMLP model:\n",
      "The test accuracy is 0.5190.\n",
      "\n"
     ]
    }
   ],
   "source": [
    "# Test the overfitted reluMLP model\n",
    "print(\"Testing the overfitted reluMLP model:\")\n",
    "test(reluMLP, test_dataloader, device=device)\n"
   ]
  },
  {
   "cell_type": "markdown",
   "metadata": {
    "id": "cqIbJeOhQ8pp"
   },
   "source": [
    "we can see that the train accuracy has a great difference with the test accuracy so the model overfits on the training data."
   ]
  },
  {
   "cell_type": "code",
   "execution_count": 16,
   "metadata": {
    "id": "BeCfvh6Jr7Om"
   },
   "outputs": [],
   "source": [
    "from layers import DropoutLayer\n",
    "\n",
    "class ReluMLPWithDropout(nn.Module):\n",
    "    def __init__(self, input_size, hidden_size, output_size, dropout_rate=0.5):\n",
    "        super(ReluMLPWithDropout, self).__init__()\n",
    "        self.fc1 = FCLayer(input_size, hidden_size)\n",
    "        self.relu1 = ReLULayer()\n",
    "        self.dropout1 = DropoutLayer(dropout_rate)\n",
    "        self.fc2 = FCLayer(hidden_size, hidden_size)  # Additional hidden layer\n",
    "        self.relu2 = ReLULayer()\n",
    "        self.dropout2 = DropoutLayer(dropout_rate)\n",
    "        self.fc3 = FCLayer(hidden_size, output_size)\n",
    "\n",
    "    def forward(self, x):\n",
    "        x = self.fc1.forward(x)\n",
    "        x = self.relu1.forward(x)\n",
    "        x = self.dropout1.forward(x)\n",
    "        x = self.fc2.forward(x)\n",
    "        x = self.relu2.forward(x)\n",
    "        x = self.dropout2.forward(x)\n",
    "        x = self.fc3.forward(x)\n",
    "        return x\n"
   ]
  },
  {
   "cell_type": "code",
   "execution_count": 17,
   "metadata": {
    "colab": {
     "base_uri": "https://localhost:8080/"
    },
    "id": "UShs-KYlr7L4",
    "outputId": "3ad52363-3deb-4183-8473-0a62d6fe119b"
   },
   "outputs": [
    {
     "name": "stdout",
     "output_type": "stream",
     "text": [
      "\n",
      "Epoch [0] Average training loss: 2.3533, Average training accuracy: 0.1953\n",
      "\n",
      "Epoch [1] Average training loss: 2.4566, Average training accuracy: 0.0469\n",
      "\n",
      "Epoch [2] Average training loss: 2.4062, Average training accuracy: 0.0391\n",
      "\n",
      "Epoch [3] Average training loss: 2.3098, Average training accuracy: 0.0703\n",
      "\n",
      "Epoch [4] Average training loss: 2.2567, Average training accuracy: 0.1094\n",
      "\n",
      "Epoch [5] Average training loss: 2.2704, Average training accuracy: 0.0859\n",
      "\n",
      "Epoch [6] Average training loss: 2.2508, Average training accuracy: 0.1172\n",
      "\n",
      "Epoch [7] Average training loss: 2.1853, Average training accuracy: 0.1875\n",
      "\n",
      "Epoch [8] Average training loss: 2.2172, Average training accuracy: 0.1797\n",
      "\n",
      "Epoch [9] Average training loss: 2.0511, Average training accuracy: 0.3438\n",
      "\n",
      "Epoch [10] Average training loss: 2.1788, Average training accuracy: 0.2031\n",
      "\n",
      "Epoch [11] Average training loss: 2.1629, Average training accuracy: 0.1562\n",
      "\n",
      "Epoch [12] Average training loss: 2.0875, Average training accuracy: 0.3359\n",
      "\n",
      "Epoch [13] Average training loss: 1.9799, Average training accuracy: 0.2891\n",
      "\n",
      "Epoch [14] Average training loss: 2.1596, Average training accuracy: 0.1875\n",
      "\n",
      "Epoch [15] Average training loss: 2.1293, Average training accuracy: 0.2422\n",
      "\n",
      "Epoch [16] Average training loss: 2.0309, Average training accuracy: 0.3125\n",
      "\n",
      "Epoch [17] Average training loss: 1.9834, Average training accuracy: 0.4062\n",
      "\n",
      "Epoch [18] Average training loss: 1.9034, Average training accuracy: 0.3594\n",
      "\n",
      "Epoch [19] Average training loss: 1.9352, Average training accuracy: 0.3359\n",
      "\n",
      "Epoch [20] Average training loss: 1.8807, Average training accuracy: 0.3906\n",
      "\n",
      "Epoch [21] Average training loss: 1.9055, Average training accuracy: 0.3594\n",
      "\n",
      "Epoch [22] Average training loss: 2.1067, Average training accuracy: 0.2422\n",
      "\n",
      "Epoch [23] Average training loss: 1.7963, Average training accuracy: 0.5703\n",
      "\n",
      "Epoch [24] Average training loss: 1.9475, Average training accuracy: 0.3906\n",
      "\n",
      "Epoch [25] Average training loss: 1.8927, Average training accuracy: 0.4297\n",
      "\n",
      "Epoch [26] Average training loss: 1.9638, Average training accuracy: 0.3047\n",
      "\n",
      "Epoch [27] Average training loss: 1.7337, Average training accuracy: 0.4141\n",
      "\n",
      "Epoch [28] Average training loss: 1.8723, Average training accuracy: 0.4062\n",
      "\n",
      "Epoch [29] Average training loss: 1.7989, Average training accuracy: 0.4688\n"
     ]
    }
   ],
   "source": [
    "\n",
    "reluMLPWithDropout = ReluMLPWithDropout(input_size=784, hidden_size=128, output_size=10, dropout_rate=0.5)\n",
    "criterion = nn.CrossEntropyLoss()\n",
    "optimizer = torch.optim.SGD(reluMLPWithDropout.parameters(), lr=0.01)\n",
    "\n",
    "# Train the model on the full dataset\n",
    "reluMLPWithDropout = train(reluMLPWithDropout, criterion, optimizer, small_train_dataloader, num_epoch=30, device=device)\n"
   ]
  },
  {
   "cell_type": "code",
   "execution_count": null,
   "metadata": {
    "colab": {
     "base_uri": "https://localhost:8080/"
    },
    "id": "0rg3t81mqNm9",
    "outputId": "5b3d68ea-0ead-4184-9101-44985eabafaa"
   },
   "outputs": [
    {
     "name": "stdout",
     "output_type": "stream",
     "text": [
      "Testing the reluMLPWithDropout model:\n",
      "The test accuracy is 0.3991.\n",
      "\n"
     ]
    }
   ],
   "source": [
    "# Test the reluMLPWithDropout model\n",
    "print(\"Testing the reluMLPWithDropout model:\")\n",
    "test(reluMLPWithDropout, test_dataloader, device=device)"
   ]
  },
  {
   "cell_type": "markdown",
   "metadata": {
    "id": "gImX92GwD674"
   },
   "source": [
    "Using dropout we can see that training accuracies and test accuracy are close so dropout makes the model better and there is no overfit. (The small accuracy is because of not using the whole data)"
   ]
  },
  {
   "cell_type": "markdown",
   "metadata": {},
   "source": [
    "##### Using whole data and dropout"
   ]
  },
  {
   "cell_type": "code",
   "execution_count": 19,
   "metadata": {
    "colab": {
     "base_uri": "https://localhost:8080/"
    },
    "id": "kA2ConZ4E_H-",
    "outputId": "29b0deb3-0680-4bb5-dca4-e56a98d1e6c9"
   },
   "outputs": [
    {
     "name": "stdout",
     "output_type": "stream",
     "text": [
      "\n",
      "Epoch [0] Average training loss: 1.1407, Average training accuracy: 0.6228\n",
      "\n",
      "Epoch [1] Average training loss: 0.5923, Average training accuracy: 0.8203\n",
      "\n",
      "Epoch [2] Average training loss: 0.4836, Average training accuracy: 0.8563\n",
      "\n",
      "Epoch [3] Average training loss: 0.4257, Average training accuracy: 0.8751\n",
      "\n",
      "Epoch [4] Average training loss: 0.3833, Average training accuracy: 0.8880\n",
      "\n",
      "Epoch [5] Average training loss: 0.3609, Average training accuracy: 0.8958\n",
      "\n",
      "Epoch [6] Average training loss: 0.3282, Average training accuracy: 0.9053\n",
      "\n",
      "Epoch [7] Average training loss: 0.3144, Average training accuracy: 0.9090\n",
      "\n",
      "Epoch [8] Average training loss: 0.2981, Average training accuracy: 0.9161\n",
      "\n",
      "Epoch [9] Average training loss: 0.2765, Average training accuracy: 0.9188\n",
      "\n",
      "Epoch [10] Average training loss: 0.2665, Average training accuracy: 0.9222\n",
      "\n",
      "Epoch [11] Average training loss: 0.2622, Average training accuracy: 0.9247\n",
      "\n",
      "Epoch [12] Average training loss: 0.2540, Average training accuracy: 0.9262\n",
      "\n",
      "Epoch [13] Average training loss: 0.2454, Average training accuracy: 0.9287\n",
      "\n",
      "Epoch [14] Average training loss: 0.2373, Average training accuracy: 0.9320\n",
      "\n",
      "Epoch [15] Average training loss: 0.2307, Average training accuracy: 0.9341\n",
      "\n",
      "Epoch [16] Average training loss: 0.2235, Average training accuracy: 0.9346\n",
      "\n",
      "Epoch [17] Average training loss: 0.2158, Average training accuracy: 0.9369\n",
      "\n",
      "Epoch [18] Average training loss: 0.2143, Average training accuracy: 0.9385\n",
      "\n",
      "Epoch [19] Average training loss: 0.2075, Average training accuracy: 0.9407\n",
      "\n",
      "Epoch [20] Average training loss: 0.2004, Average training accuracy: 0.9424\n",
      "\n",
      "Epoch [21] Average training loss: 0.2015, Average training accuracy: 0.9418\n",
      "\n",
      "Epoch [22] Average training loss: 0.1919, Average training accuracy: 0.9442\n",
      "\n",
      "Epoch [23] Average training loss: 0.1905, Average training accuracy: 0.9447\n",
      "\n",
      "Epoch [24] Average training loss: 0.1905, Average training accuracy: 0.9454\n",
      "\n",
      "Epoch [25] Average training loss: 0.1857, Average training accuracy: 0.9470\n",
      "\n",
      "Epoch [26] Average training loss: 0.1785, Average training accuracy: 0.9484\n",
      "\n",
      "Epoch [27] Average training loss: 0.1766, Average training accuracy: 0.9492\n",
      "\n",
      "Epoch [28] Average training loss: 0.1754, Average training accuracy: 0.9492\n",
      "\n",
      "Epoch [29] Average training loss: 0.1727, Average training accuracy: 0.9504\n"
     ]
    }
   ],
   "source": [
    "reluMLPWithDropout = ReluMLPWithDropout(input_size=784, hidden_size=128, output_size=10, dropout_rate=0.5)\n",
    "criterion = nn.CrossEntropyLoss()\n",
    "optimizer = torch.optim.SGD(reluMLPWithDropout.parameters(), lr=0.01)\n",
    "\n",
    "# Train the model on the full dataset\n",
    "reluMLPWithDropout = train(reluMLPWithDropout, criterion, optimizer, train_dataloader, num_epoch=30, device=device)\n"
   ]
  },
  {
   "cell_type": "code",
   "execution_count": 20,
   "metadata": {
    "colab": {
     "base_uri": "https://localhost:8080/"
    },
    "id": "mTOyFpcQDxth",
    "outputId": "2142baf4-8a41-4a58-b3ba-914b4109fa41"
   },
   "outputs": [
    {
     "name": "stdout",
     "output_type": "stream",
     "text": [
      "Testing the reluMLPWithDropout model:\n",
      "The test accuracy is 0.9689.\n",
      "\n"
     ]
    }
   ],
   "source": [
    "print(\"Testing the reluMLPWithDropout model:\")\n",
    "test(reluMLPWithDropout, test_dataloader, device=device)"
   ]
  },
  {
   "cell_type": "code",
   "execution_count": null,
   "metadata": {
    "id": "pZ7-DXi5FOsc"
   },
   "outputs": [],
   "source": []
  }
 ],
 "metadata": {
  "colab": {
   "provenance": []
  },
  "kernelspec": {
   "display_name": "Python 3",
   "name": "python3"
  },
  "language_info": {
   "codemirror_mode": {
    "name": "ipython",
    "version": 3
   },
   "file_extension": ".py",
   "mimetype": "text/x-python",
   "name": "python",
   "nbconvert_exporter": "python",
   "pygments_lexer": "ipython3",
   "version": "3.11.3"
  }
 },
 "nbformat": 4,
 "nbformat_minor": 0
}
